{
  "nbformat": 4,
  "nbformat_minor": 0,
  "metadata": {
    "colab": {
      "provenance": [],
      "authorship_tag": "ABX9TyPNqYONc8JEoqc/t6dVhwGW",
      "include_colab_link": true
    },
    "kernelspec": {
      "name": "python3",
      "display_name": "Python 3"
    },
    "language_info": {
      "name": "python"
    }
  },
  "cells": [
    {
      "cell_type": "markdown",
      "metadata": {
        "id": "view-in-github",
        "colab_type": "text"
      },
      "source": [
        "<a href=\"https://colab.research.google.com/github/LORENA-MAXIMO/Leticia-Lorena-Aluna/blob/main/01_hello_world.ipynb\" target=\"_parent\"><img src=\"https://colab.research.google.com/assets/colab-badge.svg\" alt=\"Open In Colab\"/></a>"
      ]
    },
    {
      "cell_type": "markdown",
      "source": [
        "Meu primeiro programa\n"
      ],
      "metadata": {
        "id": "8ELPHsNYd57x"
      }
    },
    {
      "cell_type": "markdown",
      "source": [],
      "metadata": {
        "id": "ETfcmeh3cbfv"
      }
    },
    {
      "cell_type": "code",
      "source": [
        "#Variáveis em Phyton\n",
        "#Atribui a string \"hello, world\" a variável message\n",
        "message=\"Hello, world!\"\n",
        "#Imprimir o conteúdo da variável message\n",
        "print(message)"
      ],
      "metadata": {
        "id": "LI3hI2FJpyRe",
        "colab": {
          "base_uri": "https://localhost:8080/"
        },
        "outputId": "ae73b732-7594-4496-c450-b7bf91485ec4"
      },
      "execution_count": 10,
      "outputs": [
        {
          "output_type": "stream",
          "name": "stdout",
          "text": [
            "Hello, world!\n"
          ]
        }
      ]
    },
    {
      "cell_type": "code",
      "source": [
        "#Imprime \"Hello, world\" na tela\n",
        "print (\"Hello, world\")"
      ],
      "metadata": {
        "colab": {
          "base_uri": "https://localhost:8080/"
        },
        "id": "HAN2rDiApS6V",
        "outputId": "9c0e18c1-b4ad-4570-ff6b-07ab7a8b1ce8"
      },
      "execution_count": null,
      "outputs": [
        {
          "output_type": "stream",
          "name": "stdout",
          "text": [
            "Hello, world\n"
          ]
        }
      ]
    },
    {
      "cell_type": "markdown",
      "source": [],
      "metadata": {
        "id": "L8tkRcPPpmNN"
      }
    },
    {
      "cell_type": "code",
      "source": [
        "#Entrada de dados do usuário\n",
        "#solicitar ao usuário que insira seu nome\n",
        "nome = input(\"Qual o seu nome?\")\n",
        "print(\"Olá,\" + nome + \"!\")"
      ],
      "metadata": {
        "colab": {
          "base_uri": "https://localhost:8080/"
        },
        "id": "BtcspVlcuiee",
        "outputId": "0d0fa214-e103-43db-b829-04571df7080c"
      },
      "execution_count": null,
      "outputs": [
        {
          "output_type": "stream",
          "name": "stdout",
          "text": [
            "Qual o seu nome?Leticia Lorena\n",
            "Olá,Leticia Lorena!\n"
          ]
        }
      ]
    }
  ]
}