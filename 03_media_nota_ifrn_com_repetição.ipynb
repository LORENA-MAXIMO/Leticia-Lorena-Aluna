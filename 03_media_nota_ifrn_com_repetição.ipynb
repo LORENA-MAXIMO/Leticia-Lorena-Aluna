{
  "nbformat": 4,
  "nbformat_minor": 0,
  "metadata": {
    "colab": {
      "provenance": [],
      "authorship_tag": "ABX9TyNiYZaKxZvn0f22Q8H5A7di",
      "include_colab_link": true
    },
    "kernelspec": {
      "name": "python3",
      "display_name": "Python 3"
    },
    "language_info": {
      "name": "python"
    }
  },
  "cells": [
    {
      "cell_type": "markdown",
      "metadata": {
        "id": "view-in-github",
        "colab_type": "text"
      },
      "source": [
        "<a href=\"https://colab.research.google.com/github/LORENA-MAXIMO/Leticia-Lorena-Aluna/blob/main/03_media_nota_ifrn_com_repeti%C3%A7%C3%A3o.ipynb\" target=\"_parent\"><img src=\"https://colab.research.google.com/assets/colab-badge.svg\" alt=\"Open In Colab\"/></a>"
      ]
    },
    {
      "cell_type": "code",
      "execution_count": 7,
      "metadata": {
        "colab": {
          "base_uri": "https://localhost:8080/"
        },
        "id": "ORHsAAPuhdBb",
        "outputId": "9044fd44-9eca-48b3-9492-2818d00c6cd5"
      },
      "outputs": [
        {
          "output_type": "stream",
          "name": "stdout",
          "text": [
            "Calculadora de média ponderada do IFRN\n",
            "Digite o número de alunos: 2\n",
            "/nAluno 1:\n",
            "digite a nota 1(com peso 2):5\n",
            "digite a nota 2(com peso 3):7\n",
            "A media ponderada das notas é: 6.20\n",
            "Aprovado\n",
            "/nAluno 2:\n",
            "digite a nota 1(com peso 2):6.0\n",
            "digite a nota 2(com peso 3):7.0\n",
            "A media ponderada das notas é: 6.60\n",
            "Aprovado\n"
          ]
        }
      ],
      "source": [
        "print(\"Calculadora de média ponderada do IFRN\")\n",
        "\n",
        "#perguntando, para quantos alunos, desejo calcular média\n",
        "num_alunos = int(input(\"Digite o número de alunos:\"))\n",
        "\n",
        "for aluno in range(1, num_alunos+1):\n",
        "#imprima o numero do aluno da vez:\n",
        "  print(f\"/nAluno {aluno}:\")\n",
        "\n",
        "\n",
        "  #Float, tipagem explícita, para garantir número fracionário\n",
        "  n1 = float( input(\"digite a nota 1(com peso 2):\"))\n",
        "  n2 = float( input(\"digite a nota 2(com peso 3):\"))\n",
        "\n",
        "  #calculo de media ponderada\n",
        "  media = (n1 * 2 + n2 * 3) / 5\n",
        "\n",
        "  #impressão da média\n",
        "  print(f\"A media ponderada das notas é: {media:.2f}\")\n",
        "\n",
        "  #apresentar se o aluno foi aprovado ou não\n",
        "  if media >= 6:\n",
        "    print(\"Aprovado\")\n",
        "  else:\n",
        "    if n1 >= 4 and n2 >=4:\n",
        "      print(\"Prova final\")\n",
        "    else:\n",
        "        print(\"Reprovado\")"
      ]
    }
  ]
}