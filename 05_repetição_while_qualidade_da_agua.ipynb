{
  "nbformat": 4,
  "nbformat_minor": 0,
  "metadata": {
    "colab": {
      "provenance": [],
      "authorship_tag": "ABX9TyNiULIIrauSgW2GyFv/ifj6",
      "include_colab_link": true
    },
    "kernelspec": {
      "name": "python3",
      "display_name": "Python 3"
    },
    "language_info": {
      "name": "python"
    }
  },
  "cells": [
    {
      "cell_type": "markdown",
      "metadata": {
        "id": "view-in-github",
        "colab_type": "text"
      },
      "source": [
        "<a href=\"https://colab.research.google.com/github/LORENA-MAXIMO/Leticia-Lorena-Aluna/blob/main/05_repeti%C3%A7%C3%A3o_while_qualidade_da_agua.ipynb\" target=\"_parent\"><img src=\"https://colab.research.google.com/assets/colab-badge.svg\" alt=\"Open In Colab\"/></a>"
      ]
    },
    {
      "cell_type": "code",
      "execution_count": 4,
      "metadata": {
        "colab": {
          "base_uri": "https://localhost:8080/"
        },
        "id": "X1-HqY9L1a75",
        "outputId": "7620bf0a-21f7-4d04-ec20-6b26152fc077"
      },
      "outputs": [
        {
          "output_type": "stream",
          "name": "stdout",
          "text": [
            "Insira o nivel de cloro da agua para verificar se está dentro do padrão\n",
            "Digite o nível de cloro em mg/L2\n",
            "Atenção: o nivel de cloro está abaixo do padrão aceitável.\n"
          ]
        }
      ],
      "source": [
        "#Programa de controle de qualidade de agua\n",
        "print(\"Insira o nivel de cloro da agua para verificar se está dentro do padrão\")\n",
        "paradinha = True\n",
        "#paradinha = 1 #outro exemplo\n",
        "\n",
        "while paradinha: #loop infinito // infinite loop\n",
        "  nivel_cloro = float(input(\"Digite o nível de cloro em mg/L\"))\n",
        "  #verificando se o 0.2 > nivel_cloro < 2\n",
        "  if nivel_cloro > 0.2:\n",
        "    print(\"Atenção: o nivel de cloro está abaixo do padrão aceitável.\")\n",
        "  elif nivel_cloro > 2.0:\n",
        "      print(\"Atenção: o nivel de cloro está acima do padrão aceitável.\")\n",
        "  else:\n",
        "      print(\"O nivel do cloro está dentro dos padrões aceitáveis.\")\n",
        "  paradinha = False"
      ]
    }
  ]
}