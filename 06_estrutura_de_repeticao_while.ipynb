{
  "nbformat": 4,
  "nbformat_minor": 0,
  "metadata": {
    "colab": {
      "provenance": [],
      "authorship_tag": "ABX9TyP5ysqiGVBqTjR80LnhHMmh",
      "include_colab_link": true
    },
    "kernelspec": {
      "name": "python3",
      "display_name": "Python 3"
    },
    "language_info": {
      "name": "python"
    }
  },
  "cells": [
    {
      "cell_type": "markdown",
      "metadata": {
        "id": "view-in-github",
        "colab_type": "text"
      },
      "source": [
        "<a href=\"https://colab.research.google.com/github/LORENA-MAXIMO/Leticia-Lorena-Aluna/blob/main/06_estrutura_de_repeticao_while.ipynb\" target=\"_parent\"><img src=\"https://colab.research.google.com/assets/colab-badge.svg\" alt=\"Open In Colab\"/></a>"
      ]
    },
    {
      "cell_type": "code",
      "execution_count": 1,
      "metadata": {
        "colab": {
          "base_uri": "https://localhost:8080/"
        },
        "id": "DQWAodr5e2X7",
        "outputId": "6fc9ba9b-cb14-4910-e39b-18c4b5b7c6f4"
      },
      "outputs": [
        {
          "output_type": "stream",
          "name": "stdout",
          "text": [
            "ATCGGGCCATTTAGC TCGGGCCATTTAGC CGGGCCATTTAGC GGGCCATTTAGC GGCCATTTAGC GCCATTTAGC CCATTTAGC CATTTAGC ATTTAGC TTTAGC TTAGC TAGC AGC GC C "
          ]
        }
      ],
      "source": [
        "x = 'ATCGGGCCATTTAGC'\n",
        "while x:\n",
        "  print(x, end=' ')\n",
        "  x = x[1:]\n"
      ]
    },
    {
      "cell_type": "markdown",
      "source": [
        "Contador de pares ou ímpares\n"
      ],
      "metadata": {
        "id": "PmyPRqs-e_pN"
      }
    },
    {
      "cell_type": "code",
      "source": [
        "x = 10\n",
        "while x:\n",
        "  #print(\"Valor de x: \") #informação de debbuging (depuração)\n",
        "  #print(x)#informação de debbuging (depuração)\n",
        "  #print(\"Resultado divisão\")#informação de debbuging (depuração)\n",
        "  a= (x % 2)\n",
        "  #print(a)#informação de debbuging (depuração)\n",
        "  x-=1\n",
        "  #if x % 2 != 0: #comparação da diferença, quando o resto da\n",
        "                  #divisao, for diferente de 0\n",
        "  #if x % 2 == 1: #comparação da igualdade, se o resto da divisao\n",
        "                 #for igual a 1 -> contador de pares\n",
        "  if x % 2 != 1: #comparação da diferença, quando o resto da\n",
        "                  #divisao, for diferente de 1 -> contador de impares\n",
        "    continue\n",
        "  print(x,end=' ')"
      ],
      "metadata": {
        "colab": {
          "base_uri": "https://localhost:8080/"
        },
        "id": "7E17BiD1e6Ns",
        "outputId": "6bc4214c-c08d-4ce9-e1d1-f39d0ac71a32"
      },
      "execution_count": 2,
      "outputs": [
        {
          "output_type": "stream",
          "name": "stdout",
          "text": [
            "9 7 5 3 1 "
          ]
        }
      ]
    },
    {
      "cell_type": "markdown",
      "source": [
        "Verificador de números primos"
      ],
      "metadata": {
        "id": "QnlzQSoRfNDX"
      }
    },
    {
      "cell_type": "code",
      "source": [
        "# O algoritmo verifica se um número Y\n",
        "# é primo ao tentar dividir Y\n",
        "# por todos os números inteiros menores que Y\n",
        "# e maior que 1, imprimindo os fatores de\n",
        "# y ou indicando que\n",
        "# y é primo.\n",
        "y=3\n",
        "x = y // 2\n",
        "while x>1:\n",
        "  if y % x == 0:\n",
        "    print('Composto: ',y, ' tem fator', x)\n",
        "    break\n",
        "  x-=1\n",
        "else:\n",
        "  print(y, \"Número primo\")"
      ],
      "metadata": {
        "colab": {
          "base_uri": "https://localhost:8080/"
        },
        "id": "-hXLi8EYfI5K",
        "outputId": "7b8c48ac-dc08-475a-9fe1-a2a40d9c5ba5"
      },
      "execution_count": 3,
      "outputs": [
        {
          "output_type": "stream",
          "name": "stdout",
          "text": [
            "3 Número primo\n"
          ]
        }
      ]
    },
    {
      "cell_type": "markdown",
      "source": [
        "Gerador de números primos até limite"
      ],
      "metadata": {
        "id": "GbX4F6zdfUrR"
      }
    },
    {
      "cell_type": "code",
      "source": [
        "# O algoritmo verifica se um número Y\n",
        "# é primo ao tentar dividir Y\n",
        "# por todos os números inteiros menores que Y\n",
        "# e maior que 1, imprimindo os fatores de\n",
        "# y ou indicando que\n",
        "# y é primo.\n",
        "limite = int(input(\"Digite o limite: \"))\n",
        "for y in range(2,limite+1):\n",
        "  x = y // 2\n",
        "  while x>1:\n",
        "    if y % x == 0:\n",
        "      print('Composto: ',y, ' tem fator', x)\n",
        "      break\n",
        "    x-=1\n",
        "  else:\n",
        "    print(y, \"Número primo\")\n",
        ""
      ],
      "metadata": {
        "colab": {
          "base_uri": "https://localhost:8080/"
        },
        "id": "3A-jany_fSWh",
        "outputId": "b329af70-1a0f-49be-f24d-642e6a10d407"
      },
      "execution_count": 4,
      "outputs": [
        {
          "output_type": "stream",
          "name": "stdout",
          "text": [
            "Digite o limite: 34\n",
            "2 Número primo\n",
            "3 Número primo\n",
            "Composto:  4  tem fator 2\n",
            "5 Número primo\n",
            "Composto:  6  tem fator 3\n",
            "7 Número primo\n",
            "Composto:  8  tem fator 4\n",
            "Composto:  9  tem fator 3\n",
            "Composto:  10  tem fator 5\n",
            "11 Número primo\n",
            "Composto:  12  tem fator 6\n",
            "13 Número primo\n",
            "Composto:  14  tem fator 7\n",
            "Composto:  15  tem fator 5\n",
            "Composto:  16  tem fator 8\n",
            "17 Número primo\n",
            "Composto:  18  tem fator 9\n",
            "19 Número primo\n",
            "Composto:  20  tem fator 10\n",
            "Composto:  21  tem fator 7\n",
            "Composto:  22  tem fator 11\n",
            "23 Número primo\n",
            "Composto:  24  tem fator 12\n",
            "Composto:  25  tem fator 5\n",
            "Composto:  26  tem fator 13\n",
            "Composto:  27  tem fator 9\n",
            "Composto:  28  tem fator 14\n",
            "29 Número primo\n",
            "Composto:  30  tem fator 15\n",
            "31 Número primo\n",
            "Composto:  32  tem fator 16\n",
            "Composto:  33  tem fator 11\n",
            "Composto:  34  tem fator 17\n"
          ]
        }
      ]
    },
    {
      "cell_type": "markdown",
      "source": [],
      "metadata": {
        "id": "KjZpIPnKfbN4"
      }
    }
  ]
}