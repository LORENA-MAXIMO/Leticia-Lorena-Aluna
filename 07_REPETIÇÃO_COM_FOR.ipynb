{
  "nbformat": 4,
  "nbformat_minor": 0,
  "metadata": {
    "colab": {
      "provenance": [],
      "authorship_tag": "ABX9TyMoKAPGvhmgY1tAltagASym",
      "include_colab_link": true
    },
    "kernelspec": {
      "name": "python3",
      "display_name": "Python 3"
    },
    "language_info": {
      "name": "python"
    }
  },
  "cells": [
    {
      "cell_type": "markdown",
      "metadata": {
        "id": "view-in-github",
        "colab_type": "text"
      },
      "source": [
        "<a href=\"https://colab.research.google.com/github/LORENA-MAXIMO/Leticia-Lorena-Aluna/blob/main/07_REPETI%C3%87%C3%83O_COM_FOR.ipynb\" target=\"_parent\"><img src=\"https://colab.research.google.com/assets/colab-badge.svg\" alt=\"Open In Colab\"/></a>"
      ]
    },
    {
      "cell_type": "code",
      "source": [
        "contador = 0\n",
        "for x in ['spam', 'eggs', 'bacon']:\n",
        "  contador += 1\n",
        "  print(f\"{contador}: {x}\")"
      ],
      "metadata": {
        "colab": {
          "base_uri": "https://localhost:8080/"
        },
        "id": "u24KuL85hgRz",
        "outputId": "39696772-ed86-48d7-a521-31b96b8dee50"
      },
      "execution_count": 1,
      "outputs": [
        {
          "output_type": "stream",
          "name": "stdout",
          "text": [
            "1: spam\n",
            "2: eggs\n",
            "3: bacon\n"
          ]
        }
      ]
    },
    {
      "cell_type": "code",
      "source": [
        "contador = 0\n",
        "for x in ['spam', 'eggs', 'bacon']:\n",
        "  print(f\"{contador}: {x}\")\n",
        "  contador += 1"
      ],
      "metadata": {
        "colab": {
          "base_uri": "https://localhost:8080/"
        },
        "id": "CMhqBagpigZM",
        "outputId": "d5068dd0-3043-4965-f8a8-eacdaa872e76"
      },
      "execution_count": 2,
      "outputs": [
        {
          "output_type": "stream",
          "name": "stdout",
          "text": [
            "0: spam\n",
            "1: eggs\n",
            "2: bacon\n"
          ]
        }
      ]
    },
    {
      "cell_type": "code",
      "source": [
        "T = [(1,2), (3,4), (5,6)]\n",
        "for (a,b) in T:\n",
        "  print(a,\" e \", b)"
      ],
      "metadata": {
        "colab": {
          "base_uri": "https://localhost:8080/"
        },
        "id": "T8M_lBavj3qs",
        "outputId": "cf5d64e9-f941-4849-d5d1-6b3e038e5979"
      },
      "execution_count": 3,
      "outputs": [
        {
          "output_type": "stream",
          "name": "stdout",
          "text": [
            "1  e  2\n",
            "3  e  4\n",
            "5  e  6\n"
          ]
        }
      ]
    },
    {
      "cell_type": "code",
      "source": [
        "#Dicionário em python\n",
        "D = {'a' : 1, 'b' : 2, 'c' : 3}\n",
        "for chave in D:\n",
        "  print(chave,\"=>\",D[chave])"
      ],
      "metadata": {
        "colab": {
          "base_uri": "https://localhost:8080/"
        },
        "id": "B2uctYMakgJd",
        "outputId": "d3e49efc-ec9d-475c-9c30-29fb56c30589"
      },
      "execution_count": 5,
      "outputs": [
        {
          "output_type": "stream",
          "name": "stdout",
          "text": [
            "a => 1\n",
            "b => 2\n",
            "c => 3\n"
          ]
        }
      ]
    },
    {
      "cell_type": "markdown",
      "source": [
        "USO DO RANGE"
      ],
      "metadata": {
        "id": "TshkOt8qqtcP"
      }
    },
    {
      "cell_type": "code",
      "source": [
        "list(range(10))"
      ],
      "metadata": {
        "colab": {
          "base_uri": "https://localhost:8080/"
        },
        "id": "8gy4SA-gmKx_",
        "outputId": "93b5b2d7-f37b-4a3e-8d9e-1b0fef45384e"
      },
      "execution_count": 9,
      "outputs": [
        {
          "output_type": "execute_result",
          "data": {
            "text/plain": [
              "[0, 1, 2, 3, 4, 5, 6, 7, 8, 9]"
            ]
          },
          "metadata": {},
          "execution_count": 9
        }
      ]
    },
    {
      "cell_type": "code",
      "source": [
        "for i in range(5):\n",
        "  print(i, \"pythons\")"
      ],
      "metadata": {
        "colab": {
          "base_uri": "https://localhost:8080/"
        },
        "id": "upw80kN9nHPg",
        "outputId": "e989ba4c-325b-49d5-b31e-cf2dff92a889"
      },
      "execution_count": 11,
      "outputs": [
        {
          "output_type": "stream",
          "name": "stdout",
          "text": [
            "0 pythons\n",
            "1 pythons\n",
            "2 pythons\n",
            "3 pythons\n",
            "4 pythons\n"
          ]
        }
      ]
    },
    {
      "cell_type": "code",
      "source": [
        "s = 'Letícia'\n",
        "print(\"Tamanho da palavra\", len(s))\n",
        "for i in range(len(s)):\n",
        "  print(i,s[i],sep='_',end=' ')"
      ],
      "metadata": {
        "colab": {
          "base_uri": "https://localhost:8080/"
        },
        "id": "FcDL_kRtnmAw",
        "outputId": "48b19ac7-2684-4572-feb9-76f105e79ee1"
      },
      "execution_count": 16,
      "outputs": [
        {
          "output_type": "stream",
          "name": "stdout",
          "text": [
            "Tamanho da palavra 7\n",
            "0_L 1_e 2_t 3_í 4_c 5_i 6_a "
          ]
        }
      ]
    },
    {
      "cell_type": "markdown",
      "source": [
        "USO DO ZIP"
      ],
      "metadata": {
        "id": "qZsoPVuDq_UI"
      }
    },
    {
      "cell_type": "code",
      "source": [
        "L1 = ['a','b','c','d']\n",
        "L2 = [1,2,3,4]\n",
        "print(list(L1))\n",
        "print(list(L2))\n",
        "compactado = zip(L1,L2)\n",
        "print(list(compactado))\n",
        "print(type(compactado)) #qual o tipo de classe ?\n",
        "print(type(list(zip(L1,L2))))\n",
        "for (x,y) in list(zip(L1,L2)):\n",
        "  print(x,\"-\",y)\n"
      ],
      "metadata": {
        "colab": {
          "base_uri": "https://localhost:8080/"
        },
        "id": "RmLCUiFwrBoH",
        "outputId": "ca7b7698-8431-4cd3-9164-baa762085bd2"
      },
      "execution_count": 36,
      "outputs": [
        {
          "output_type": "stream",
          "name": "stdout",
          "text": [
            "['a', 'b', 'c', 'd']\n",
            "[1, 2, 3, 4]\n",
            "[('a', 1), ('b', 2), ('c', 3), ('d', 4)]\n",
            "<class 'zip'>\n",
            "<class 'list'>\n",
            "a - 1\n",
            "b - 2\n",
            "c - 3\n",
            "d - 4\n"
          ]
        }
      ]
    }
  ]
}