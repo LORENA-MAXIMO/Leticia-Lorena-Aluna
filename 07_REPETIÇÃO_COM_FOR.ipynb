{
  "nbformat": 4,
  "nbformat_minor": 0,
  "metadata": {
    "colab": {
      "provenance": [],
      "authorship_tag": "ABX9TyM3SzZKbUyYbtgDyxGGD4j3",
      "include_colab_link": true
    },
    "kernelspec": {
      "name": "python3",
      "display_name": "Python 3"
    },
    "language_info": {
      "name": "python"
    }
  },
  "cells": [
    {
      "cell_type": "markdown",
      "metadata": {
        "id": "view-in-github",
        "colab_type": "text"
      },
      "source": [
        "<a href=\"https://colab.research.google.com/github/LORENA-MAXIMO/Leticia-Lorena-Aluna/blob/main/07_REPETI%C3%87%C3%83O_COM_FOR.ipynb\" target=\"_parent\"><img src=\"https://colab.research.google.com/assets/colab-badge.svg\" alt=\"Open In Colab\"/></a>"
      ]
    },
    {
      "cell_type": "code",
      "source": [
        "contador = 0\n",
        "for x in ['spam', 'eggs', 'bacon']:\n",
        "  contador += 1\n",
        "  print(f\"{contador}: {x}\")"
      ],
      "metadata": {
        "colab": {
          "base_uri": "https://localhost:8080/"
        },
        "id": "u24KuL85hgRz",
        "outputId": "39696772-ed86-48d7-a521-31b96b8dee50"
      },
      "execution_count": 1,
      "outputs": [
        {
          "output_type": "stream",
          "name": "stdout",
          "text": [
            "1: spam\n",
            "2: eggs\n",
            "3: bacon\n"
          ]
        }
      ]
    },
    {
      "cell_type": "code",
      "source": [
        "contador = 0\n",
        "for x in ['spam', 'eggs', 'bacon']:\n",
        "  print(f\"{contador}: {x}\")\n",
        "  contador += 1"
      ],
      "metadata": {
        "colab": {
          "base_uri": "https://localhost:8080/"
        },
        "id": "CMhqBagpigZM",
        "outputId": "d5068dd0-3043-4965-f8a8-eacdaa872e76"
      },
      "execution_count": 2,
      "outputs": [
        {
          "output_type": "stream",
          "name": "stdout",
          "text": [
            "0: spam\n",
            "1: eggs\n",
            "2: bacon\n"
          ]
        }
      ]
    },
    {
      "cell_type": "code",
      "source": [
        "T = [(1,2), (3,4), (5,6)]\n",
        "for (a,b) in T:\n",
        "  print(a,\" e \", b)"
      ],
      "metadata": {
        "colab": {
          "base_uri": "https://localhost:8080/"
        },
        "id": "T8M_lBavj3qs",
        "outputId": "cf5d64e9-f941-4849-d5d1-6b3e038e5979"
      },
      "execution_count": 3,
      "outputs": [
        {
          "output_type": "stream",
          "name": "stdout",
          "text": [
            "1  e  2\n",
            "3  e  4\n",
            "5  e  6\n"
          ]
        }
      ]
    }
  ]
}