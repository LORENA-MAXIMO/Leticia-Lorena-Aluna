{
  "nbformat": 4,
  "nbformat_minor": 0,
  "metadata": {
    "colab": {
      "provenance": [],
      "authorship_tag": "ABX9TyNl/0RpDf6VccXVDJBR3pWp",
      "include_colab_link": true
    },
    "kernelspec": {
      "name": "python3",
      "display_name": "Python 3"
    },
    "language_info": {
      "name": "python"
    }
  },
  "cells": [
    {
      "cell_type": "markdown",
      "metadata": {
        "id": "view-in-github",
        "colab_type": "text"
      },
      "source": [
        "<a href=\"https://colab.research.google.com/github/LORENA-MAXIMO/Leticia-Lorena-Aluna/blob/main/15_matrizes.ipynb\" target=\"_parent\"><img src=\"https://colab.research.google.com/assets/colab-badge.svg\" alt=\"Open In Colab\"/></a>"
      ]
    },
    {
      "cell_type": "code",
      "execution_count": 1,
      "metadata": {
        "colab": {
          "base_uri": "https://localhost:8080/"
        },
        "id": "W15s4UfEZKT2",
        "outputId": "ceefe1c8-4bba-453e-d2f3-16787a439071"
      },
      "outputs": [
        {
          "output_type": "stream",
          "name": "stdout",
          "text": [
            "[1, 2, 3, 4, 5, 6]\n"
          ]
        }
      ],
      "source": [
        "\n",
        "M = [1,2,3,4,5,6] #(unidimensional)\n",
        "print(M)\n",
        ""
      ]
    },
    {
      "cell_type": "code",
      "source": [
        "M = [[1,1,1],[1,1,1],[1,1,1]]  #vetores dentro do vetor\n",
        "print(M)\n",
        "M = [[1]*3]*3 #Bidimensional\n",
        "print(M)\n",
        ""
      ],
      "metadata": {
        "colab": {
          "base_uri": "https://localhost:8080/"
        },
        "id": "Y_Ez26JXZTld",
        "outputId": "fbf325c4-286d-4445-fbc2-dfb0e2f0fd30"
      },
      "execution_count": 2,
      "outputs": [
        {
          "output_type": "stream",
          "name": "stdout",
          "text": [
            "[[1, 1, 1], [1, 1, 1], [1, 1, 1]]\n",
            "[[1, 1, 1], [1, 1, 1], [1, 1, 1]]\n"
          ]
        }
      ]
    },
    {
      "cell_type": "markdown",
      "source": [
        "### list comprehension:"
      ],
      "metadata": {
        "id": "8t35C6b8aCM9"
      }
    },
    {
      "cell_type": "code",
      "source": [
        "#uma matriz\n",
        "M = [ [1 for i in range(5)]]\n",
        "print(M)"
      ],
      "metadata": {
        "colab": {
          "base_uri": "https://localhost:8080/"
        },
        "id": "9nKWKdVgZVGt",
        "outputId": "54291386-e0df-4f19-a1b1-481f8d8ec1b6"
      },
      "execution_count": 14,
      "outputs": [
        {
          "output_type": "stream",
          "name": "stdout",
          "text": [
            "[[1, 1, 1, 1, 1]]\n"
          ]
        }
      ]
    },
    {
      "cell_type": "code",
      "source": [
        "M = [ [1 for i in range(5)] for j in range(5)]\n",
        "print(M)"
      ],
      "metadata": {
        "colab": {
          "base_uri": "https://localhost:8080/"
        },
        "id": "SGdnWm92bUUX",
        "outputId": "408d72ec-ad17-4151-af95-2b3b5ac0fb1e"
      },
      "execution_count": 12,
      "outputs": [
        {
          "output_type": "stream",
          "name": "stdout",
          "text": [
            "[[1, 1, 1, 1, 1], [1, 1, 1, 1, 1], [1, 1, 1, 1, 1], [1, 1, 1, 1, 1], [1, 1, 1, 1, 1]]\n"
          ]
        }
      ]
    },
    {
      "cell_type": "markdown",
      "source": [
        "## lista incrementa (len = é uma função embutida que retorna o número de itens em um objeto / na lista)"
      ],
      "metadata": {
        "id": "aDVHP0zsjXeO"
      }
    },
    {
      "cell_type": "code",
      "source": [
        "#imprimir uma lista aninha\n",
        "m = [ [1 for i in range(3)] for j in range(5)]\n",
        "cont=0\n",
        "for i in range(len(m)):\n",
        "  for j in range(len(m[i])):\n",
        "    cont+=1\n",
        "  m[i] [j]=cont\n",
        "print(m)\n",
        ""
      ],
      "metadata": {
        "colab": {
          "base_uri": "https://localhost:8080/"
        },
        "id": "zefT7Apnbow2",
        "outputId": "4c32bd1b-5cd2-49ac-9633-b423177b0059"
      },
      "execution_count": 27,
      "outputs": [
        {
          "output_type": "stream",
          "name": "stdout",
          "text": [
            "[[1, 1, 3], [1, 1, 6], [1, 1, 9], [1, 1, 12], [1, 1, 15]]\n"
          ]
        }
      ]
    },
    {
      "cell_type": "code",
      "source": [
        "#imprimir uma lista aninha\n",
        "m = [ [1 for i in range(3)] for j in range(5)]\n",
        "cont=0\n",
        "for i in range(len(m)):\n",
        "  for j in range(len(m[i])):\n",
        "    cont+=20\n",
        "  m[i] [j]=cont\n",
        "print(m)\n",
        ""
      ],
      "metadata": {
        "colab": {
          "base_uri": "https://localhost:8080/"
        },
        "id": "CeFW0e0hoM5l",
        "outputId": "6e6c36a6-33d1-4552-f253-1ab6cc3d4b47"
      },
      "execution_count": 28,
      "outputs": [
        {
          "output_type": "stream",
          "name": "stdout",
          "text": [
            "[[1, 1, 60], [1, 1, 120], [1, 1, 180], [1, 1, 240], [1, 1, 300]]\n"
          ]
        }
      ]
    }
  ]
}