{
  "nbformat": 4,
  "nbformat_minor": 0,
  "metadata": {
    "colab": {
      "provenance": [],
      "authorship_tag": "ABX9TyN5DSLt1CC37D+NOnrhKTdQ",
      "include_colab_link": true
    },
    "kernelspec": {
      "name": "python3",
      "display_name": "Python 3"
    },
    "language_info": {
      "name": "python"
    }
  },
  "cells": [
    {
      "cell_type": "markdown",
      "metadata": {
        "id": "view-in-github",
        "colab_type": "text"
      },
      "source": [
        "<a href=\"https://colab.research.google.com/github/LORENA-MAXIMO/Leticia-Lorena-Aluna/blob/main/ATIVIDADE_03_Respostas.ipynb\" target=\"_parent\"><img src=\"https://colab.research.google.com/assets/colab-badge.svg\" alt=\"Open In Colab\"/></a>"
      ]
    },
    {
      "cell_type": "markdown",
      "source": [
        "1. Calculadora de IMC (Índice de Massa Corporal):"
      ],
      "metadata": {
        "id": "3MkfEc6H83TR"
      }
    },
    {
      "cell_type": "code",
      "execution_count": 3,
      "metadata": {
        "colab": {
          "base_uri": "https://localhost:8080/"
        },
        "id": "pjPszFXn8wmo",
        "outputId": "6db8ebef-9935-4735-9c2c-78eabf0c655b"
      },
      "outputs": [
        {
          "output_type": "stream",
          "name": "stdout",
          "text": [
            "Digite o seu peso em kg: 63\n",
            "Digite a sua altura em metros: 1.61\n",
            "Seu IMC é: 24.3046178773967\n",
            "Classificação: Peso normal\n"
          ]
        }
      ],
      "source": [
        "def calcular_imc(peso, altura):\n",
        "    imc = peso / (altura * altura)\n",
        "    return imc\n",
        "\n",
        "def classificar_imc(imc):\n",
        "    if imc < 18.5:\n",
        "        return \"Baixo peso\"\n",
        "    elif 18.5 <= imc < 25:\n",
        "        return \"Peso normal\"\n",
        "    elif 25 <= imc < 30:\n",
        "        return \"Sobrepeso\"\n",
        "    else:\n",
        "        return \"Obesidade\"\n",
        "\n",
        "def main():\n",
        "    peso = float(input(\"Digite o seu peso em kg: \"))\n",
        "    altura = float(input(\"Digite a sua altura em metros: \"))\n",
        "\n",
        "    imc = calcular_imc(peso, altura)\n",
        "    classificacao = classificar_imc(imc)\n",
        "\n",
        "    print(\"Seu IMC é:\", imc)\n",
        "    print(\"Classificação:\", classificacao)\n",
        "\n",
        "if __name__ == \"__main__\":\n",
        "    main()\n"
      ]
    },
    {
      "cell_type": "markdown",
      "source": [
        "2. Verificador de Número Par ou Ímpar:\n",
        "\n"
      ],
      "metadata": {
        "id": "4kec3WTQ86pF"
      }
    },
    {
      "cell_type": "code",
      "source": [
        "def verificar_par_impar(numero):\n",
        "    \"\"\"\n",
        "    Verifica se um número é par ou ímpar.\n",
        "    \"\"\"\n",
        "    if numero % 2 == 0:\n",
        "        return \"par\"\n",
        "    else:\n",
        "        return \"ímpar\"\n",
        "\n",
        "def main():\n",
        "    # Solicitar ao usuário que insira um número inteiro\n",
        "    numero = int(input(\"Por favor, insira um número inteiro: \"))\n",
        "\n",
        "    # Verificar se o número é par ou ímpar\n",
        "    resultado = verificar_par_impar(numero)\n",
        "\n",
        "    # Exibir o resultado\n",
        "    print(\"O número\", numero, \"é\", resultado + \".\")\n",
        "\n",
        "if __name__ == \"__main__\":\n",
        "    main()\n"
      ],
      "metadata": {
        "colab": {
          "base_uri": "https://localhost:8080/"
        },
        "id": "PiPJ8XZH87tW",
        "outputId": "7ca40bbe-0b66-45d7-8452-df634cde569e"
      },
      "execution_count": 4,
      "outputs": [
        {
          "output_type": "stream",
          "name": "stdout",
          "text": [
            "Por favor, insira um número inteiro: 25\n",
            "O número 25 é ímpar.\n"
          ]
        }
      ]
    },
    {
      "cell_type": "markdown",
      "source": [
        "3. Conversor de Temperatura:"
      ],
      "metadata": {
        "id": "ey7We6jM897G"
      }
    },
    {
      "cell_type": "code",
      "source": [
        "def celsius_para_fahrenheit(celsius):\n",
        "    fahrenheit = celsius * 9/5 + 32\n",
        "    return fahrenheit\n",
        "\n",
        "# Solicita ao usuário a temperatura em Celsius\n",
        "temperatura_celsius = float(input(\"Digite a temperatura em Celsius: \"))\n",
        "\n",
        "# Converte a temperatura para Fahrenheit\n",
        "temperatura_fahrenheit = celsius_para_fahrenheit(temperatura_celsius)\n",
        "\n",
        "# Exibe o resultado da conversão\n",
        "print(f\"A temperatura em Fahrenheit é: {temperatura_fahrenheit:.2f}\")\n"
      ],
      "metadata": {
        "colab": {
          "base_uri": "https://localhost:8080/"
        },
        "id": "8To0CiaZ_zp-",
        "outputId": "9bb63ebb-8931-4289-f6fb-933f89bf9783"
      },
      "execution_count": 5,
      "outputs": [
        {
          "output_type": "stream",
          "name": "stdout",
          "text": [
            "Digite a temperatura em Celsius: 40\n",
            "A temperatura em Fahrenheit é: 104.00\n"
          ]
        }
      ]
    },
    {
      "cell_type": "markdown",
      "source": [
        "4. Tabuada de Multiplicação:"
      ],
      "metadata": {
        "id": "1GYzV09a9BZX"
      }
    },
    {
      "cell_type": "code",
      "source": [
        "def exibir_tabuada(numero):\n",
        "    print(f\"Tabuada de multiplicação para {numero}:\")\n",
        "    for i in range(1, 11):\n",
        "        resultado = numero * i\n",
        "        print(f\"{numero} x {i} = {resultado}\")\n",
        "\n",
        "# Solicita ao usuário um número\n",
        "numero = int(input(\"Digite um número para ver a tabuada de multiplicação: \"))\n",
        "\n",
        "# Exibe a tabuada de multiplicação para o número fornecido\n",
        "exibir_tabuada(numero)\n"
      ],
      "metadata": {
        "colab": {
          "base_uri": "https://localhost:8080/"
        },
        "id": "2PKbrSav89I9",
        "outputId": "9263c4d1-4fd7-417a-c8c5-246576c2b229"
      },
      "execution_count": 6,
      "outputs": [
        {
          "output_type": "stream",
          "name": "stdout",
          "text": [
            "Digite um número para ver a tabuada de multiplicação: 5\n",
            "Tabuada de multiplicação para 5:\n",
            "5 x 1 = 5\n",
            "5 x 2 = 10\n",
            "5 x 3 = 15\n",
            "5 x 4 = 20\n",
            "5 x 5 = 25\n",
            "5 x 6 = 30\n",
            "5 x 7 = 35\n",
            "5 x 8 = 40\n",
            "5 x 9 = 45\n",
            "5 x 10 = 50\n"
          ]
        }
      ]
    },
    {
      "cell_type": "markdown",
      "source": [
        "5. Cálculo de Média Ponderada:"
      ],
      "metadata": {
        "id": "mpe9Ca0g88Kt"
      }
    },
    {
      "cell_type": "code",
      "source": [
        "def calcular_media_ponderada(nota1, peso1, nota2, peso2, nota3, peso3):\n",
        "    soma_pesos = peso1 + peso2 + peso3\n",
        "    media_ponderada = (nota1 * peso1 + nota2 * peso2 + nota3 * peso3) / soma_pesos\n",
        "    return media_ponderada\n",
        "\n",
        "# Solicita ao usuário as notas e pesos\n",
        "nota1 = float(input(\"Digite a primeira nota: \"))\n",
        "peso1 = float(input(\"Digite o peso da primeira nota: \"))\n",
        "nota2 = float(input(\"Digite a segunda nota: \"))\n",
        "peso2 = float(input(\"Digite o peso da segunda nota: \"))\n",
        "nota3 = float(input(\"Digite a terceira nota: \"))\n",
        "peso3 = float(input(\"Digite o peso da terceira nota: \"))\n",
        "\n",
        "# Calcula a média ponderada\n",
        "media = calcular_media_ponderada(nota1, peso1, nota2, peso2, nota3, peso3)\n",
        "\n",
        "# Exibe o resultado da média\n",
        "print(f\"A média ponderada das notas é: {media:.2f}\")\n"
      ],
      "metadata": {
        "colab": {
          "base_uri": "https://localhost:8080/"
        },
        "id": "yTJLaCHj9LYN",
        "outputId": "bebe673e-c2f9-4a03-d1c2-7d7c4ef1a1f1"
      },
      "execution_count": 7,
      "outputs": [
        {
          "output_type": "stream",
          "name": "stdout",
          "text": [
            "Digite a primeira nota: 6.9\n",
            "Digite o peso da primeira nota: 1\n",
            "Digite a segunda nota: 7.5\n",
            "Digite o peso da segunda nota: 2\n",
            "Digite a terceira nota: 8.9\n",
            "Digite o peso da terceira nota: 3\n",
            "A média ponderada das notas é: 8.10\n"
          ]
        }
      ]
    },
    {
      "cell_type": "markdown",
      "source": [
        "6. Verificador de Ano Bissexto:"
      ],
      "metadata": {
        "id": "cyZbmSWM9K_F"
      }
    },
    {
      "cell_type": "code",
      "source": [
        "def verificar_ano_bissexto(ano):\n",
        "    if (ano % 4 == 0 and ano % 100 != 0) or (ano % 400 == 0):\n",
        "        return True\n",
        "    else:\n",
        "        return False\n",
        "\n",
        "# Solicita ao usuário um ano\n",
        "ano = int(input(\"Digite um ano para verificar se é bissexto: \"))\n",
        "\n",
        "# Verifica se o ano é bissexto e exibe uma mensagem correspondente\n",
        "if verificar_ano_bissexto(ano):\n",
        "    print(f\"O ano {ano} é bissexto.\")\n",
        "else:\n",
        "    print(f\"O ano {ano} não é bissexto.\")\n"
      ],
      "metadata": {
        "colab": {
          "base_uri": "https://localhost:8080/"
        },
        "id": "_FfyuS9X9Kar",
        "outputId": "57ad5e44-5f4c-4d2e-f269-40fe3bf2d7eb"
      },
      "execution_count": 8,
      "outputs": [
        {
          "output_type": "stream",
          "name": "stdout",
          "text": [
            "Digite um ano para verificar se é bissexto: 2024\n",
            "O ano 2024 é bissexto.\n"
          ]
        }
      ]
    },
    {
      "cell_type": "markdown",
      "source": [
        "7. Contador de Vogais em uma String:\n"
      ],
      "metadata": {
        "id": "mIhXC8aN9J-r"
      }
    },
    {
      "cell_type": "code",
      "source": [
        "def contar_vogais(string):\n",
        "    vogais = \"aeiouAEIOU\"\n",
        "    contador = 0\n",
        "    for char in string:\n",
        "        if char in vogais:\n",
        "            contador += 1\n",
        "    return contador\n",
        "\n",
        "# Solicita ao usuário uma string\n",
        "string = input(\"Digite uma string para contar as vogais: \")\n",
        "\n",
        "# Conta o número de vogais na string\n",
        "num_vogais = contar_vogais(string)\n",
        "\n",
        "# Exibe o número de vogais na string\n",
        "print(f\"O número de vogais na string é: {num_vogais}\")\n"
      ],
      "metadata": {
        "colab": {
          "base_uri": "https://localhost:8080/"
        },
        "id": "uisYIFpV9Jav",
        "outputId": "5bb70c45-0b82-4143-b9a8-33d5aeb96f65"
      },
      "execution_count": 9,
      "outputs": [
        {
          "output_type": "stream",
          "name": "stdout",
          "text": [
            "Digite uma string para contar as vogais: prata\n",
            "O número de vogais na string é: 2\n"
          ]
        }
      ]
    },
    {
      "cell_type": "markdown",
      "source": [
        "8. Calculadora de Fatorial:"
      ],
      "metadata": {
        "id": "s0jjdQQR9I-4"
      }
    },
    {
      "cell_type": "code",
      "source": [
        "def calcular_fatorial(numero):\n",
        "    if numero == 0:\n",
        "        return 1\n",
        "    else:\n",
        "        fatorial = 1\n",
        "        for i in range(1, numero + 1):\n",
        "            fatorial *= i\n",
        "        return fatorial\n",
        "\n",
        "# Solicita ao usuário um número inteiro positivo\n",
        "numero = int(input(\"Digite um número inteiro positivo para calcular o fatorial: \"))\n",
        "\n",
        "# Verifica se o número é positivo\n",
        "if numero < 0:\n",
        "    print(\"O número deve ser inteiro positivo.\")\n",
        "else:\n",
        "    # Calcula o fatorial do número\n",
        "    fatorial = calcular_fatorial(numero)\n",
        "    # Exibe o resultado\n",
        "    print(f\"O fatorial de {numero} é: {fatorial}\")\n"
      ],
      "metadata": {
        "colab": {
          "base_uri": "https://localhost:8080/"
        },
        "id": "deM9g2eZ9ISS",
        "outputId": "61008645-f731-4338-8a83-f0c1cf8fa495"
      },
      "execution_count": 10,
      "outputs": [
        {
          "output_type": "stream",
          "name": "stdout",
          "text": [
            "Digite um número inteiro positivo para calcular o fatorial: 32\n",
            "O fatorial de 32 é: 263130836933693530167218012160000000\n"
          ]
        }
      ]
    },
    {
      "cell_type": "markdown",
      "source": [
        "9. Soma dos Números Pares em um Intervalo:"
      ],
      "metadata": {
        "id": "gmv4t9GK9H0W"
      }
    },
    {
      "cell_type": "code",
      "source": [
        "def soma_numeros_pares_intervalo(inicio, fim):\n",
        "    soma = 0\n",
        "    for num in range(inicio, fim + 1):\n",
        "        if num % 2 == 0:\n",
        "            soma += num\n",
        "    return soma\n",
        "\n",
        "# Solicita ao usuário os dois números inteiros que representam o intervalo\n",
        "inicio = int(input(\"Digite o número inicial do intervalo: \"))\n",
        "fim = int(input(\"Digite o número final do intervalo: \"))\n",
        "\n",
        "# Verifica se o intervalo é válido\n",
        "if inicio > fim:\n",
        "    print(\"O intervalo não é válido. O número inicial deve ser menor ou igual ao número final.\")\n",
        "else:\n",
        "    # Calcula a soma dos números pares no intervalo\n",
        "    soma_pares = soma_numeros_pares_intervalo(inicio, fim)\n",
        "    # Exibe o resultado\n",
        "    print(f\"A soma dos números pares no intervalo de {inicio} a {fim} é: {soma_pares}\")\n"
      ],
      "metadata": {
        "colab": {
          "base_uri": "https://localhost:8080/"
        },
        "id": "AafrGD459HC5",
        "outputId": "d52ec78b-fdcd-4264-c007-a6fed99d5c83"
      },
      "execution_count": 11,
      "outputs": [
        {
          "output_type": "stream",
          "name": "stdout",
          "text": [
            "Digite o número inicial do intervalo: 5\n",
            "Digite o número final do intervalo: 30\n",
            "A soma dos números pares no intervalo de 5 a 30 é: 234\n"
          ]
        }
      ]
    },
    {
      "cell_type": "markdown",
      "source": [
        "10. Verificador de Número Primo:\n"
      ],
      "metadata": {
        "id": "RDOMTJ7o9GY1"
      }
    },
    {
      "cell_type": "code",
      "source": [
        "def verificar_primo(numero):\n",
        "    if numero <= 1:\n",
        "        return False\n",
        "    elif numero <= 3:\n",
        "        return True\n",
        "    elif numero % 2 == 0 or numero % 3 == 0:\n",
        "        return False\n",
        "    i = 5\n",
        "    while i * i <= numero:\n",
        "        if numero % i == 0 or numero % (i + 2) == 0:\n",
        "            return False\n",
        "        i += 6\n",
        "    return True\n",
        "\n",
        "# Solicita ao usuário um número inteiro positivo\n",
        "numero = int(input(\"Digite um número inteiro positivo para verificar se é primo: \"))\n",
        "\n",
        "# Verifica se o número é primo e exibe uma mensagem correspondente\n",
        "if verificar_primo(numero):\n",
        "    print(f\"O número {numero} é primo.\")\n",
        "else:\n",
        "    print(f\"O número {numero} não é primo.\")\n"
      ],
      "metadata": {
        "colab": {
          "base_uri": "https://localhost:8080/"
        },
        "id": "zXfumUAI84Sv",
        "outputId": "c4865127-c63c-4e80-f824-d56c2b0f82b3"
      },
      "execution_count": 12,
      "outputs": [
        {
          "output_type": "stream",
          "name": "stdout",
          "text": [
            "Digite um número inteiro positivo para verificar se é primo: 39\n",
            "O número 39 não é primo.\n"
          ]
        }
      ]
    }
  ]
}