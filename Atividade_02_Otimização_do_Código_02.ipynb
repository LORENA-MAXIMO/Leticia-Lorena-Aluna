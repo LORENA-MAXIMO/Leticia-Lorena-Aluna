{
  "nbformat": 4,
  "nbformat_minor": 0,
  "metadata": {
    "colab": {
      "provenance": [],
      "authorship_tag": "ABX9TyP4+ttxh4zq8K4CNgA/66y7",
      "include_colab_link": true
    },
    "kernelspec": {
      "name": "python3",
      "display_name": "Python 3"
    },
    "language_info": {
      "name": "python"
    }
  },
  "cells": [
    {
      "cell_type": "markdown",
      "metadata": {
        "id": "view-in-github",
        "colab_type": "text"
      },
      "source": [
        "<a href=\"https://colab.research.google.com/github/LORENA-MAXIMO/Leticia-Lorena-Aluna/blob/main/Atividade_02_Otimiza%C3%A7%C3%A3o_do_C%C3%B3digo_02.ipynb\" target=\"_parent\"><img src=\"https://colab.research.google.com/assets/colab-badge.svg\" alt=\"Open In Colab\"/></a>"
      ]
    },
    {
      "cell_type": "code",
      "execution_count": 1,
      "metadata": {
        "colab": {
          "base_uri": "https://localhost:8080/"
        },
        "id": "ieCurUth5b5w",
        "outputId": "6910f192-4cb3-4a16-bc43-cbddd27a48ec"
      },
      "outputs": [
        {
          "output_type": "stream",
          "name": "stdout",
          "text": [
            "Digite a nota: 7.0\n",
            "Nota válida! A nota inserida está dentro do intervalo de 0 a 10.\n"
          ]
        }
      ],
      "source": [
        "def validar_nota(nota):\n",
        "    if nota >= 0 and nota <= 10:\n",
        "        return True\n",
        "    else:\n",
        "        return False\n",
        "\n",
        "nota_usuario = float(input(\"Digite a nota: \"))\n",
        "\n",
        "if validar_nota(nota_usuario):\n",
        "    print(\"Nota válida! A nota inserida está dentro do intervalo de 0 a 10.\")\n",
        "else:\n",
        "    print(\"Nota inválida! Por favor, insira uma nota entre 0 e 10.\")"
      ]
    }
  ]
}