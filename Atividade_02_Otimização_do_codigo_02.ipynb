{
  "nbformat": 4,
  "nbformat_minor": 0,
  "metadata": {
    "colab": {
      "provenance": [],
      "authorship_tag": "ABX9TyPrbHSeArOL8JNmNxTkynul",
      "include_colab_link": true
    },
    "kernelspec": {
      "name": "python3",
      "display_name": "Python 3"
    },
    "language_info": {
      "name": "python"
    }
  },
  "cells": [
    {
      "cell_type": "markdown",
      "metadata": {
        "id": "view-in-github",
        "colab_type": "text"
      },
      "source": [
        "<a href=\"https://colab.research.google.com/github/LORENA-MAXIMO/Leticia-Lorena-Aluna/blob/main/Atividade_02_Otimiza%C3%A7%C3%A3o_do_codigo_02.ipynb\" target=\"_parent\"><img src=\"https://colab.research.google.com/assets/colab-badge.svg\" alt=\"Open In Colab\"/></a>"
      ]
    },
    {
      "cell_type": "code",
      "source": [
        "print(\"Calculadora de média ponderada\")\n",
        "#Float, tipagem explícita, para garantir número fracionário\n",
        "n1 = float( input(\"Digite a nota 1(com peso 2): \") )\n",
        "n2 = float( input(\"Digite a nota 2(com peso 3): \") )\n",
        "\n",
        "#calculo de media ponderada\n",
        "media = (n1 * 2 + n2 * 3) / 5\n",
        "\n",
        "#impressão da média\n",
        "print(f\"A média ponderada das notas é: {media:.2f}\")\n",
        "\n",
        "#apresentar se o aluno foi aprovado ou não\n",
        "if media >= 6:\n",
        "  print(\"Aprovado\")\n",
        "else:\n",
        "  if n1 >= 4 and n2 >=4:\n",
        "    print(\"Prova final\")\n",
        "  else:\n",
        "    print(\"Reprovado\")"
      ],
      "metadata": {
        "colab": {
          "base_uri": "https://localhost:8080/"
        },
        "id": "NLcnndXc08Em",
        "outputId": "bd3b246b-431c-43e8-dd63-8b268a1d3c0c"
      },
      "execution_count": 10,
      "outputs": [
        {
          "output_type": "stream",
          "name": "stdout",
          "text": [
            "Calculadora de média ponderada\n",
            "Digite a nota 1(com peso 2): 5.0\n",
            "Digite a nota 2(com peso 3): 7.0\n",
            "A média ponderada das notas é: 6.20\n",
            "Aprovado\n"
          ]
        }
      ]
    },
    {
      "cell_type": "code",
      "execution_count": null,
      "metadata": {
        "id": "zsVeua1a0oM-"
      },
      "outputs": [],
      "source": []
    }
  ]
}