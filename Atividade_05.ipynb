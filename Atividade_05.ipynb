{
  "nbformat": 4,
  "nbformat_minor": 0,
  "metadata": {
    "colab": {
      "provenance": [],
      "authorship_tag": "ABX9TyM26UWGWsQ870Z575CC5QCI",
      "include_colab_link": true
    },
    "kernelspec": {
      "name": "python3",
      "display_name": "Python 3"
    },
    "language_info": {
      "name": "python"
    }
  },
  "cells": [
    {
      "cell_type": "markdown",
      "metadata": {
        "id": "view-in-github",
        "colab_type": "text"
      },
      "source": [
        "<a href=\"https://colab.research.google.com/github/LORENA-MAXIMO/Leticia-Lorena-Aluna/blob/main/Atividade_05.ipynb\" target=\"_parent\"><img src=\"https://colab.research.google.com/assets/colab-badge.svg\" alt=\"Open In Colab\"/></a>"
      ]
    },
    {
      "cell_type": "markdown",
      "source": [
        "1. Crie um programa que leia um número inteiro. Quando este for negativo,\n",
        "some-o com 100; quando positivo, apenas faça sua impressão."
      ],
      "metadata": {
        "id": "leFi_ofHEYeF"
      }
    },
    {
      "cell_type": "code",
      "execution_count": 11,
      "metadata": {
        "colab": {
          "base_uri": "https://localhost:8080/"
        },
        "id": "fcs49xIdEH2d",
        "outputId": "5a72b9ae-b489-4e6c-ed49-e0c0a0bb5f75"
      },
      "outputs": [
        {
          "output_type": "stream",
          "name": "stdout",
          "text": [
            "digite um número inteiro-60\n",
            "40.0\n"
          ]
        }
      ],
      "source": [
        "numero = float(input(\"digite um número inteiro\"))\n",
        "if numero < 0:\n",
        "  numero += 100\n",
        "  print(numero)\n",
        "else:\n",
        "  print(numero)"
      ]
    },
    {
      "cell_type": "markdown",
      "source": [
        "2. Crie um programa que leia o código de um curso do IFRN, Campus\n",
        "Natal Central, e indique o nome do curso de acordo com a tabela abaixo. Se o\n",
        "programa ler um código inexistente no Instituto, uma mensagem de alerta deve\n",
        "ser informada ao usuário.\n",
        "Código Curso\n",
        "1 Técnico em Informática\n",
        "Subseqüente\n",
        "2 Técnico em Informática EJA\n",
        "3 Técnico em Cooperativismo\n",
        "4 Técnico em Cooperativismo EJA\n",
        "5 Licenciatura em Física"
      ],
      "metadata": {
        "id": "_PJLfy2TIMuz"
      }
    },
    {
      "cell_type": "code",
      "source": [
        "codigo_cursos = {\n",
        "    1: \"Tecnico em Informática Subsequente\",\n",
        "    2: \"Tecnico em Informática EJA\",\n",
        "    3: \"Tecnico em Cooperativismo\",\n",
        "    4: \"Tecnico em Cooperativismo EJA\",\n",
        "    5: \"Licenciatura em Fisica\"\n",
        "}\n",
        "\n",
        "\n",
        "codigo = float(input(\"Digite o código do curso\"))\n",
        "\n",
        "if codigo in codigo_cursos:\n",
        "    print(\"O curso é:\", codigo_cursos[codigo])\n",
        "else:\n",
        "  print(\"Alerta: Código não existente nesse campus!\")"
      ],
      "metadata": {
        "colab": {
          "base_uri": "https://localhost:8080/"
        },
        "id": "jc3Cca1CIflk",
        "outputId": "fc9b2d49-e0ac-46c3-9f34-68d5f5f812cb"
      },
      "execution_count": 16,
      "outputs": [
        {
          "output_type": "stream",
          "name": "stdout",
          "text": [
            "Digite o código do curso7\n",
            "Alerta: Código não existente nesse campus!\n"
          ]
        }
      ]
    },
    {
      "cell_type": "markdown",
      "source": [
        "3. Leia duas strings e informe o conteúdo delas\n",
        "seguido do seu comprimento.\n",
        "3a. Crie uma variável res1 que informa se as duas\n",
        "strings possuem o mesmo comprimento."
      ],
      "metadata": {
        "id": "Eoh5mKbFKqKd"
      }
    },
    {
      "cell_type": "code",
      "source": [
        "string1 = \"fevereiro\"\n",
        "string2 = \"abril\"\n",
        "\n",
        "print(string1, \" (comprimento: \", len(string1), \")\")\n",
        "print(string2, \" (comprimento: \", len(string2), \")\")\n"
      ],
      "metadata": {
        "colab": {
          "base_uri": "https://localhost:8080/"
        },
        "id": "s1ESFgN6K99R",
        "outputId": "92f0835d-a72d-42a3-c494-cb512f9375db"
      },
      "execution_count": 23,
      "outputs": [
        {
          "output_type": "stream",
          "name": "stdout",
          "text": [
            "fevereiro  (comprimento:  9 )\n",
            "abril  (comprimento:  5 )\n"
          ]
        }
      ]
    },
    {
      "cell_type": "markdown",
      "source": [
        "3.b.Crie uma variável res2 que informa se as duasstrings são iguais ou diferentes no conteúdo"
      ],
      "metadata": {
        "id": "_9AS-eKBPzJl"
      }
    },
    {
      "cell_type": "code",
      "source": [
        "string1 = \"fevereiro\"\n",
        "string2 = \"abril\"\n",
        "\n",
        "res2 = string1 == string2\n",
        "\n",
        "print(res2)"
      ],
      "metadata": {
        "colab": {
          "base_uri": "https://localhost:8080/"
        },
        "id": "31ORdwikP0UC",
        "outputId": "e27aa135-164b-4eed-91c4-d6f6767f6776"
      },
      "execution_count": 24,
      "outputs": [
        {
          "output_type": "stream",
          "name": "stdout",
          "text": [
            "False\n"
          ]
        }
      ]
    },
    {
      "cell_type": "markdown",
      "source": [
        "4. Faça um programa que ler uma string e cortaos dois primeiros caracteres e os dois últimos"
      ],
      "metadata": {
        "id": "c6FWE77jQO-q"
      }
    },
    {
      "cell_type": "code",
      "source": [
        "texto = input(\"digite uma string\")\n",
        "\n",
        "if len(texto) >= 4:\n",
        "  texto_cortado = texto[2:-2]\n",
        "  print(\"string cortada:\", texto_cortado)\n",
        "\n",
        "else:\n",
        "  print(\"Precisa ter minimo 4 caracteres\")"
      ],
      "metadata": {
        "colab": {
          "base_uri": "https://localhost:8080/"
        },
        "id": "isjXUSTJQWwA",
        "outputId": "1171295a-4f17-4e0f-fa0b-08424e6009a0"
      },
      "execution_count": 26,
      "outputs": [
        {
          "output_type": "stream",
          "name": "stdout",
          "text": [
            "digite uma stringparalelepipedo\n",
            "string cortada: ralelepipe\n"
          ]
        }
      ]
    }
  ]
}