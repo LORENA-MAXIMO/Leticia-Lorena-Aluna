{
  "nbformat": 4,
  "nbformat_minor": 0,
  "metadata": {
    "colab": {
      "provenance": [],
      "authorship_tag": "ABX9TyOlAWQ7ZXnQzrC7a9xyEWFj",
      "include_colab_link": true
    },
    "kernelspec": {
      "name": "python3",
      "display_name": "Python 3"
    },
    "language_info": {
      "name": "python"
    }
  },
  "cells": [
    {
      "cell_type": "markdown",
      "metadata": {
        "id": "view-in-github",
        "colab_type": "text"
      },
      "source": [
        "<a href=\"https://colab.research.google.com/github/LORENA-MAXIMO/Leticia-Lorena-Aluna/blob/main/Atividade_05_contar.ipynb\" target=\"_parent\"><img src=\"https://colab.research.google.com/assets/colab-badge.svg\" alt=\"Open In Colab\"/></a>"
      ]
    },
    {
      "cell_type": "code",
      "execution_count": 1,
      "metadata": {
        "id": "XV4uguFnjmjU"
      },
      "outputs": [],
      "source": [
        "\n",
        "def contar_caracteres(palavra):\n",
        "    contagem = {}\n",
        "    for char in palavra:\n",
        "        if char in contagem:\n",
        "            contagem[char] += 1\n",
        "        else:\n",
        "            contagem[char] = 1\n",
        "    return contagem\n",
        "\n",
        "#def contar_caracteres(palavra):\n",
        "#  pass\n",
        ""
      ]
    }
  ]
}