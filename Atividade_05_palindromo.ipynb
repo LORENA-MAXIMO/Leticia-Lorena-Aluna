{
  "nbformat": 4,
  "nbformat_minor": 0,
  "metadata": {
    "colab": {
      "provenance": [],
      "authorship_tag": "ABX9TyODuCNbaX1qa+/BcGt1V/cQ",
      "include_colab_link": true
    },
    "kernelspec": {
      "name": "python3",
      "display_name": "Python 3"
    },
    "language_info": {
      "name": "python"
    }
  },
  "cells": [
    {
      "cell_type": "markdown",
      "metadata": {
        "id": "view-in-github",
        "colab_type": "text"
      },
      "source": [
        "<a href=\"https://colab.research.google.com/github/LORENA-MAXIMO/Leticia-Lorena-Aluna/blob/main/Atividade_05_palindromo.ipynb\" target=\"_parent\"><img src=\"https://colab.research.google.com/assets/colab-badge.svg\" alt=\"Open In Colab\"/></a>"
      ]
    },
    {
      "cell_type": "code",
      "execution_count": 1,
      "metadata": {
        "colab": {
          "base_uri": "https://localhost:8080/"
        },
        "id": "ejZwvFNyW1bL",
        "outputId": "e98ac4e7-f237-45ef-e3f4-c6ad2e296fc0"
      },
      "outputs": [
        {
          "output_type": "stream",
          "name": "stdout",
          "text": [
            "False\n"
          ]
        }
      ],
      "source": [
        "def eh_palindromo(palavra):\n",
        "    #pass\n",
        "    palavra = palavra.replace(\" \", \"\").lower()\n",
        "    return palavra == palavra[::-1]\n",
        "\n",
        "print(eh_palindromo(\"algoritmo\"))\n"
      ]
    }
  ]
}