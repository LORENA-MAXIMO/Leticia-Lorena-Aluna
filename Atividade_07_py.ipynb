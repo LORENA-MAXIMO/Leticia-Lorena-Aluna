{
  "nbformat": 4,
  "nbformat_minor": 0,
  "metadata": {
    "colab": {
      "provenance": [],
      "authorship_tag": "ABX9TyMADKDCeRU57np0IwDKfqHQ",
      "include_colab_link": true
    },
    "kernelspec": {
      "name": "python3",
      "display_name": "Python 3"
    },
    "language_info": {
      "name": "python"
    }
  },
  "cells": [
    {
      "cell_type": "markdown",
      "metadata": {
        "id": "view-in-github",
        "colab_type": "text"
      },
      "source": [
        "<a href=\"https://colab.research.google.com/github/LORENA-MAXIMO/Leticia-Lorena-Aluna/blob/main/Atividade_07_py.ipynb\" target=\"_parent\"><img src=\"https://colab.research.google.com/assets/colab-badge.svg\" alt=\"Open In Colab\"/></a>"
      ]
    },
    {
      "cell_type": "code",
      "execution_count": 5,
      "metadata": {
        "id": "dl-ML4rEcrL8"
      },
      "outputs": [],
      "source": [
        "# Atividade 7 - Lista 3\n",
        "\n",
        "#Questão 1\n",
        "#Produto Escalar de Dois Vetores:\n",
        "#Descrição: Multiplica os elementos correspondentes #de dois vetores e soma os resultados.\n",
        "#Função: produto_escalar(vetor1, vetor2)\n",
        "#TDD: Verifica vetores comuns, vetores com zeros e vetores com valores idênticos.\n",
        "\n",
        "def produto_escalar(vetor1,vetor2):\n",
        "    produto = 0\n",
        "    for i in range(len(vetor1)):\n",
        "        produto += vetor1[i] * vetor2[i]\n",
        "    return produto\n",
        "\n",
        "#Questão 2\n",
        "#Soma dos Elementos na Diagonal Principal de uma Matriz:\n",
        "#Descrição: Soma os elementos localizados na diagonal principal de uma matriz quadrada.\n",
        "#Função: soma_diagonal(matriz)\n",
        "#TDD: Testa matrizes de diferentes tamanhos, incluindo casos simples e com valores zero.\n",
        "def soma_diagonal(matriz):\n",
        "    soma = 0\n",
        "    for i in range(len(matriz)):\n",
        "      return soma"
      ]
    }
  ]
}