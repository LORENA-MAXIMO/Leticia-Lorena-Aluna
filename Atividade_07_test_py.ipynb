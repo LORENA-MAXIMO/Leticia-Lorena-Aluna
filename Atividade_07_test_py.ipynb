{
  "nbformat": 4,
  "nbformat_minor": 0,
  "metadata": {
    "colab": {
      "provenance": [],
      "authorship_tag": "ABX9TyOi0epNypcB0Ss6X/D2tS3/",
      "include_colab_link": true
    },
    "kernelspec": {
      "name": "python3",
      "display_name": "Python 3"
    },
    "language_info": {
      "name": "python"
    }
  },
  "cells": [
    {
      "cell_type": "markdown",
      "metadata": {
        "id": "view-in-github",
        "colab_type": "text"
      },
      "source": [
        "<a href=\"https://colab.research.google.com/github/LORENA-MAXIMO/Leticia-Lorena-Aluna/blob/main/Atividade_07_test_py.ipynb\" target=\"_parent\"><img src=\"https://colab.research.google.com/assets/colab-badge.svg\" alt=\"Open In Colab\"/></a>"
      ]
    },
    {
      "cell_type": "code",
      "execution_count": 1,
      "metadata": {
        "colab": {
          "base_uri": "https://localhost:8080/",
          "height": 401
        },
        "id": "xdUzrmUzffMp",
        "outputId": "4766a315-fe5a-4ab7-b6f4-8ee6fdfcef22"
      },
      "outputs": [
        {
          "output_type": "error",
          "ename": "ModuleNotFoundError",
          "evalue": "No module named 'Atividade_07'",
          "traceback": [
            "\u001b[0;31m---------------------------------------------------------------------------\u001b[0m",
            "\u001b[0;31mModuleNotFoundError\u001b[0m                       Traceback (most recent call last)",
            "\u001b[0;32m<ipython-input-1-6ead67e9046f>\u001b[0m in \u001b[0;36m<cell line: 3>\u001b[0;34m()\u001b[0m\n\u001b[1;32m      1\u001b[0m \u001b[0;32mimport\u001b[0m \u001b[0munittest\u001b[0m\u001b[0;34m\u001b[0m\u001b[0;34m\u001b[0m\u001b[0m\n\u001b[1;32m      2\u001b[0m \u001b[0;34m\u001b[0m\u001b[0m\n\u001b[0;32m----> 3\u001b[0;31m \u001b[0;32mfrom\u001b[0m \u001b[0mAtividade_07\u001b[0m \u001b[0;32mimport\u001b[0m \u001b[0mproduto_escalar\u001b[0m\u001b[0;34m\u001b[0m\u001b[0;34m\u001b[0m\u001b[0m\n\u001b[0m\u001b[1;32m      4\u001b[0m \u001b[0;32mfrom\u001b[0m \u001b[0mAtividade_07\u001b[0m \u001b[0;32mimport\u001b[0m \u001b[0msoma_diagonal\u001b[0m\u001b[0;34m\u001b[0m\u001b[0;34m\u001b[0m\u001b[0m\n\u001b[1;32m      5\u001b[0m \u001b[0;34m\u001b[0m\u001b[0m\n",
            "\u001b[0;31mModuleNotFoundError\u001b[0m: No module named 'Atividade_07'",
            "",
            "\u001b[0;31m---------------------------------------------------------------------------\u001b[0;32m\nNOTE: If your import is failing due to a missing package, you can\nmanually install dependencies using either !pip or !apt.\n\nTo view examples of installing some common dependencies, click the\n\"Open Examples\" button below.\n\u001b[0;31m---------------------------------------------------------------------------\u001b[0m\n"
          ],
          "errorDetails": {
            "actions": [
              {
                "action": "open_url",
                "actionText": "Open Examples",
                "url": "/notebooks/snippets/importing_libraries.ipynb"
              }
            ]
          }
        }
      ],
      "source": [
        "import unittest\n",
        "\n",
        "from Atividade_07 import produto_escalar\n",
        "from Atividade_07 import soma_diagonal\n",
        "\n",
        "class TestProdutoEscalar(unittest.TestCase):\n",
        "    def test_produto_escalar(self):\n",
        "        self.assertEqual(produto_escalar([1, 2, 3], [4, 5, 6]), 32)\n",
        "        self.assertEqual(produto_escalar([0, 0, 0], [1, 2, 3]), 0)\n",
        "        self.assertEqual(produto_escalar([1, 1, 1], [1, 1, 1]), 3)\n",
        "        self.assertEqual(produto_escalar([2, 4, 6], [3, 6, 9]), 84)\n",
        "\n",
        "\n",
        "class TestSomaDiagonal(unittest.TestCase):\n",
        "    def test_soma_diagonal(self):\n",
        "        self.assertEqual(soma_diagonal([[1, 2, 3], [4, 5, 6], [7, 8, 9]]), 15)\n",
        "        self.assertEqual(soma_diagonal([[5, 2], [3, 6]]), 11)\n",
        "        self.assertEqual(soma_diagonal([[1]]), 1)\n",
        "        self.assertEqual(soma_diagonal([[0, 1], [1, 0]]), 0)\n",
        "\n",
        "\n",
        "if __name__ == '__main__':\n",
        "    unittest.main()"
      ]
    }
  ]
}