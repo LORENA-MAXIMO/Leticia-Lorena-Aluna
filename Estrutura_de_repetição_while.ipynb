{
  "nbformat": 4,
  "nbformat_minor": 0,
  "metadata": {
    "colab": {
      "provenance": [],
      "authorship_tag": "ABX9TyMrqniyfnVhwjEbQ1dOSSCl",
      "include_colab_link": true
    },
    "kernelspec": {
      "name": "python3",
      "display_name": "Python 3"
    },
    "language_info": {
      "name": "python"
    }
  },
  "cells": [
    {
      "cell_type": "markdown",
      "metadata": {
        "id": "view-in-github",
        "colab_type": "text"
      },
      "source": [
        "<a href=\"https://colab.research.google.com/github/LORENA-MAXIMO/Leticia-Lorena-Aluna/blob/main/Estrutura_de_repeti%C3%A7%C3%A3o_while.ipynb\" target=\"_parent\"><img src=\"https://colab.research.google.com/assets/colab-badge.svg\" alt=\"Open In Colab\"/></a>"
      ]
    },
    {
      "cell_type": "code",
      "execution_count": 9,
      "metadata": {
        "colab": {
          "base_uri": "https://localhost:8080/"
        },
        "id": "03qgI2VweeAb",
        "outputId": "9648e06e-7908-4aa2-df65-36e80fbef60b"
      },
      "outputs": [
        {
          "output_type": "stream",
          "name": "stdout",
          "text": [
            "lorena orena rena ena na a "
          ]
        }
      ],
      "source": [
        "from re import I\n",
        "x = 'lorena'\n",
        "i = 1000\n",
        "while x:\n",
        "  print(x, end=' ')\n",
        "  #x = x[1:]\n",
        "  x = x[1:]\n"
      ]
    }
  ]
}