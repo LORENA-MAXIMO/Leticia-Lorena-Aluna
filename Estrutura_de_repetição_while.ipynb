{
  "nbformat": 4,
  "nbformat_minor": 0,
  "metadata": {
    "colab": {
      "provenance": [],
      "authorship_tag": "ABX9TyO2wliLRA4sMRE9kj2RYwKH",
      "include_colab_link": true
    },
    "kernelspec": {
      "name": "python3",
      "display_name": "Python 3"
    },
    "language_info": {
      "name": "python"
    }
  },
  "cells": [
    {
      "cell_type": "markdown",
      "metadata": {
        "id": "view-in-github",
        "colab_type": "text"
      },
      "source": [
        "<a href=\"https://colab.research.google.com/github/LORENA-MAXIMO/Leticia-Lorena-Aluna/blob/main/Estrutura_de_repeti%C3%A7%C3%A3o_while.ipynb\" target=\"_parent\"><img src=\"https://colab.research.google.com/assets/colab-badge.svg\" alt=\"Open In Colab\"/></a>"
      ]
    },
    {
      "cell_type": "code",
      "execution_count": 9,
      "metadata": {
        "colab": {
          "base_uri": "https://localhost:8080/"
        },
        "id": "03qgI2VweeAb",
        "outputId": "9648e06e-7908-4aa2-df65-36e80fbef60b"
      },
      "outputs": [
        {
          "output_type": "stream",
          "name": "stdout",
          "text": [
            "lorena orena rena ena na a "
          ]
        }
      ],
      "source": [
        "from re import I\n",
        "x = 'lorena'\n",
        "i = 1000\n",
        "while x:\n",
        "  print(x, end=' ')\n",
        "  #x = x[1:]\n",
        "  x = x[1:]\n"
      ]
    },
    {
      "cell_type": "code",
      "source": [
        "x = 10\n",
        "while x:\n",
        "  #print(\"valor de x\") #informação de debbuing (depuração)\n",
        "  #print(x) #informação de debbuing (depuração)\n",
        "  #print(\"Resultado divisão\") #informação de debbuing (depuração)\n",
        "  a= (x % 2)\n",
        "  #print(a) #informação de debbuing (depuração)\n",
        "  x-=1\n",
        "  #if x % 2 != 0: #comparação da diferença, quando o resto da #divisão, for diferente de 0\n",
        "  #if x % 2 == 1: #comparação da diferença, quando o resto da #divisão, for igual a 1 -> contador de pares\n",
        "  if x % 2 != 1: #comparação da diferença, quando o resto da #divisão, for diferente de 1 -> contador de impares\n",
        "   continue\n",
        "  print(x,end=' ')"
      ],
      "metadata": {
        "colab": {
          "base_uri": "https://localhost:8080/"
        },
        "id": "uPgEgEtCjS-Q",
        "outputId": "1dc37b07-d498-4664-bb79-d91a5f255dde"
      },
      "execution_count": 20,
      "outputs": [
        {
          "output_type": "stream",
          "name": "stdout",
          "text": [
            "9 7 5 3 1 "
          ]
        }
      ]
    },
    {
      "cell_type": "code",
      "source": [
        "# O algoritmo verifica se um número Y\n",
        "# é primo ao tentar dividir Y\n",
        "# por todos os números inteiros menores que Y\n",
        "# e maior que 1, imprimindo os fstores de\n",
        "# y ou indicando que\n",
        "# y primo.\n",
        "y=3\n",
        "x = y // 2\n",
        "while x>1:\n",
        "  if y % x == 0:\n",
        "    print(y, ' tem fator', x)\n",
        "    break\n",
        "  x-=1\n",
        "else:\n",
        "  print(y, \"Número primo\")\n",
        "\n",
        ""
      ],
      "metadata": {
        "colab": {
          "base_uri": "https://localhost:8080/"
        },
        "id": "ybE47g0bq1c9",
        "outputId": "5f84cd99-67dd-4296-937d-6c89baf4e280"
      },
      "execution_count": 28,
      "outputs": [
        {
          "output_type": "stream",
          "name": "stdout",
          "text": [
            "3 Número primo\n"
          ]
        }
      ]
    },
    {
      "cell_type": "markdown",
      "source": [],
      "metadata": {
        "id": "KWDirD59qvv2"
      }
    }
  ]
}