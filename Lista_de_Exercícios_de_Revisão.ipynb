{
  "nbformat": 4,
  "nbformat_minor": 0,
  "metadata": {
    "colab": {
      "provenance": [],
      "authorship_tag": "ABX9TyNaMAQk5vJuF/BrRqKnLFDx",
      "include_colab_link": true
    },
    "kernelspec": {
      "name": "python3",
      "display_name": "Python 3"
    },
    "language_info": {
      "name": "python"
    }
  },
  "cells": [
    {
      "cell_type": "markdown",
      "metadata": {
        "id": "view-in-github",
        "colab_type": "text"
      },
      "source": [
        "<a href=\"https://colab.research.google.com/github/LORENA-MAXIMO/Leticia-Lorena-Aluna/blob/main/Lista_de_Exerc%C3%ADcios_de_Revis%C3%A3o.ipynb\" target=\"_parent\"><img src=\"https://colab.research.google.com/assets/colab-badge.svg\" alt=\"Open In Colab\"/></a>"
      ]
    },
    {
      "cell_type": "markdown",
      "source": [
        "Questão 01 \"Olá, Mundo!\""
      ],
      "metadata": {
        "id": "952bSIgWtl7H"
      }
    },
    {
      "cell_type": "code",
      "execution_count": 1,
      "metadata": {
        "colab": {
          "base_uri": "https://localhost:8080/"
        },
        "id": "gq6p0zf5s59Q",
        "outputId": "6efe1fa8-3130-4361-b564-5319ff412e6b"
      },
      "outputs": [
        {
          "output_type": "stream",
          "name": "stdout",
          "text": [
            "Olá, Mundo!\n"
          ]
        }
      ],
      "source": [
        "#Atribuir a string \"Olá, Mundo!\" a variável message\n",
        "message=\"Olá, Mundo!\"\n",
        "#Imprimir o conteúdo da variável message\n",
        "print(message)\n"
      ]
    },
    {
      "cell_type": "code",
      "source": [
        "#Imprime \"Olá, Mundo!\" na tela\n",
        "print(\"Olá, Mundo!\")"
      ],
      "metadata": {
        "colab": {
          "base_uri": "https://localhost:8080/"
        },
        "id": "nlhGdV3ovAKI",
        "outputId": "37c2a7da-8553-4546-8f02-3ac647905d14"
      },
      "execution_count": 2,
      "outputs": [
        {
          "output_type": "stream",
          "name": "stdout",
          "text": [
            "Olá, Mundo!\n"
          ]
        }
      ]
    },
    {
      "cell_type": "markdown",
      "source": [
        "Questão 02 \"Média Final do aluno\""
      ],
      "metadata": {
        "id": "EhIscycIvcud"
      }
    },
    {
      "cell_type": "code",
      "source": [
        "print(\"Calculadora de média ponderada\")\n",
        "#Float, tipagem  explícita, para garantir número fracionário\n",
        "n1 = float(input('nota da primeira prova:'))\n",
        "n2 = float(input('nota da segunda prova:'))\n",
        "n3 = float(input('nota da terceira prova:'))\n",
        "\n",
        "média = (n1 + n2 + n3)/3\n",
        "print('a média das notas é!',média)"
      ],
      "metadata": {
        "colab": {
          "base_uri": "https://localhost:8080/"
        },
        "id": "vuthVjAivpmr",
        "outputId": "5a3b1449-4393-40ed-d365-52cfff5736d5"
      },
      "execution_count": 2,
      "outputs": [
        {
          "output_type": "stream",
          "name": "stdout",
          "text": [
            "Calculadora de média ponderada\n",
            "nota da primeira prova:7\n",
            "nota da segunda prova:9\n",
            "nota da terceira prova:10\n",
            "a média das notas é! 8.666666666666666\n"
          ]
        }
      ]
    },
    {
      "cell_type": "markdown",
      "source": [
        "Questão 03 \"Nota com repetição\""
      ],
      "metadata": {
        "id": "SJPapyhvk88S"
      }
    },
    {
      "cell_type": "code",
      "source": [
        "#float, tipagem explícita, para garantir número fracionário\n",
        "n1 = float(input('nota da primeira prova:'))\n",
        "n2 = float(input('nota da segunda prova:'))\n",
        "n3 = float(input('nota da terceira prova:'))\n",
        "\n",
        "média = (n1 + n2 + n3)/3\n",
        "print('a média das notas é!',média)\n",
        "\n",
        "#Apresentar se o aluno foi aprovado ou não\n",
        "if média >= 6:\n",
        "  print(\"Aprovado\")\n",
        "else:\n",
        "   if n1 >= 4 and n2 >=4 and n3 >= 4:\n",
        "      print(\"Prova Final\")\n",
        "   else:\n",
        "    print(\"Reprovado\")\n",
        "\n"
      ],
      "metadata": {
        "colab": {
          "base_uri": "https://localhost:8080/"
        },
        "id": "5tCV6Ln-lKsH",
        "outputId": "1ac3e736-9c04-4324-d7b2-6c45617fef2b"
      },
      "execution_count": 4,
      "outputs": [
        {
          "output_type": "stream",
          "name": "stdout",
          "text": [
            "nota da primeira prova:10\n",
            "nota da segunda prova:8\n",
            "nota da terceira prova:7\n",
            "a média das notas é! 8.333333333333334\n",
            "Aprovado\n"
          ]
        }
      ]
    },
    {
      "cell_type": "markdown",
      "source": [
        "Questão 04 \"Número maior entre os três\""
      ],
      "metadata": {
        "id": "7Y2s3xXVqUth"
      }
    },
    {
      "cell_type": "code",
      "source": [
        "#Determine o maior número\n",
        "a= 18\n",
        "b= 90\n",
        "c= 60\n",
        "\n",
        "print(max(a,b,c))"
      ],
      "metadata": {
        "colab": {
          "base_uri": "https://localhost:8080/"
        },
        "id": "6wanerduqm0h",
        "outputId": "dcaed2c5-033a-4a52-e93d-5c37bd059ed8"
      },
      "execution_count": 5,
      "outputs": [
        {
          "output_type": "stream",
          "name": "stdout",
          "text": [
            "90\n"
          ]
        }
      ]
    },
    {
      "cell_type": "markdown",
      "source": [
        "Questão 05 \"Monitoramento da qualidade da água no reservatório\""
      ],
      "metadata": {
        "id": "S31oK_7QrOUM"
      }
    },
    {
      "cell_type": "code",
      "source": [
        "#Programa de controle de qualidade de água\n",
        "print(\"Insira o nível de cloro da água para verificar se está dentro do padrão aceito\")\n",
        "\n",
        "while True: #Loop infinito // infinete Loop\n",
        " nivel_cloro = float(input(\"Digite o nível de cloro em mg/L: \"))\n",
        " #verificando se o 0.2 > nível_cloro < 2\n",
        " if nivel_cloro < 2.0:\n",
        "  print(\"Atenção: O nível de cloro está abaixo do padrão aceitável\")\n",
        " elif nivel_cloro > 2.0:\n",
        "   print(\"Atenção: O nível de cloro está acima do padrão aceitável\")\n",
        " else:\n",
        "  print(\"O nível do cloro está dentro dos padrões aceitáveis.\")\n",
        "  break\n"
      ],
      "metadata": {
        "colab": {
          "base_uri": "https://localhost:8080/"
        },
        "id": "yNvKe9C1rh1B",
        "outputId": "848cdb65-b731-40ec-87c4-7e55399dbc9c"
      },
      "execution_count": 7,
      "outputs": [
        {
          "output_type": "stream",
          "name": "stdout",
          "text": [
            "Insira o nível de cloro da água para verificar se está dentro do padrão aceito\n",
            "Digite o nível de cloro em mg/L: 5\n",
            "Atenção: O nível de cloro está acima do padrão aceitável\n",
            "Digite o nível de cloro em mg/L: 2\n",
            "O nível do cloro está dentro dos padrões aceitáveis.\n"
          ]
        }
      ]
    },
    {
      "cell_type": "markdown",
      "source": [
        "Questão 06 \"Cálculo da soma dos números de 1 a 100\""
      ],
      "metadata": {
        "id": "9ktj6rim0LkD"
      }
    },
    {
      "cell_type": "code",
      "source": [
        "numero = 1\n",
        "soma = 0\n",
        "\n",
        "while numero <= 100:\n",
        "  soma += numero #Adicionar o número atual à soma\n",
        "  numero += 1 #Incrementa o número para a próxima interação\n",
        "\n",
        "  print(f\"A soma dos números de 1 a 100 é: {soma}\")"
      ],
      "metadata": {
        "colab": {
          "base_uri": "https://localhost:8080/"
        },
        "id": "_aDfZOwn1ZxU",
        "outputId": "c7a3f359-791e-41ea-c94a-d3232f830b89"
      },
      "execution_count": 8,
      "outputs": [
        {
          "output_type": "stream",
          "name": "stdout",
          "text": [
            "A soma dos números de 1 a 100 é: 1\n",
            "A soma dos números de 1 a 100 é: 3\n",
            "A soma dos números de 1 a 100 é: 6\n",
            "A soma dos números de 1 a 100 é: 10\n",
            "A soma dos números de 1 a 100 é: 15\n",
            "A soma dos números de 1 a 100 é: 21\n",
            "A soma dos números de 1 a 100 é: 28\n",
            "A soma dos números de 1 a 100 é: 36\n",
            "A soma dos números de 1 a 100 é: 45\n",
            "A soma dos números de 1 a 100 é: 55\n",
            "A soma dos números de 1 a 100 é: 66\n",
            "A soma dos números de 1 a 100 é: 78\n",
            "A soma dos números de 1 a 100 é: 91\n",
            "A soma dos números de 1 a 100 é: 105\n",
            "A soma dos números de 1 a 100 é: 120\n",
            "A soma dos números de 1 a 100 é: 136\n",
            "A soma dos números de 1 a 100 é: 153\n",
            "A soma dos números de 1 a 100 é: 171\n",
            "A soma dos números de 1 a 100 é: 190\n",
            "A soma dos números de 1 a 100 é: 210\n",
            "A soma dos números de 1 a 100 é: 231\n",
            "A soma dos números de 1 a 100 é: 253\n",
            "A soma dos números de 1 a 100 é: 276\n",
            "A soma dos números de 1 a 100 é: 300\n",
            "A soma dos números de 1 a 100 é: 325\n",
            "A soma dos números de 1 a 100 é: 351\n",
            "A soma dos números de 1 a 100 é: 378\n",
            "A soma dos números de 1 a 100 é: 406\n",
            "A soma dos números de 1 a 100 é: 435\n",
            "A soma dos números de 1 a 100 é: 465\n",
            "A soma dos números de 1 a 100 é: 496\n",
            "A soma dos números de 1 a 100 é: 528\n",
            "A soma dos números de 1 a 100 é: 561\n",
            "A soma dos números de 1 a 100 é: 595\n",
            "A soma dos números de 1 a 100 é: 630\n",
            "A soma dos números de 1 a 100 é: 666\n",
            "A soma dos números de 1 a 100 é: 703\n",
            "A soma dos números de 1 a 100 é: 741\n",
            "A soma dos números de 1 a 100 é: 780\n",
            "A soma dos números de 1 a 100 é: 820\n",
            "A soma dos números de 1 a 100 é: 861\n",
            "A soma dos números de 1 a 100 é: 903\n",
            "A soma dos números de 1 a 100 é: 946\n",
            "A soma dos números de 1 a 100 é: 990\n",
            "A soma dos números de 1 a 100 é: 1035\n",
            "A soma dos números de 1 a 100 é: 1081\n",
            "A soma dos números de 1 a 100 é: 1128\n",
            "A soma dos números de 1 a 100 é: 1176\n",
            "A soma dos números de 1 a 100 é: 1225\n",
            "A soma dos números de 1 a 100 é: 1275\n",
            "A soma dos números de 1 a 100 é: 1326\n",
            "A soma dos números de 1 a 100 é: 1378\n",
            "A soma dos números de 1 a 100 é: 1431\n",
            "A soma dos números de 1 a 100 é: 1485\n",
            "A soma dos números de 1 a 100 é: 1540\n",
            "A soma dos números de 1 a 100 é: 1596\n",
            "A soma dos números de 1 a 100 é: 1653\n",
            "A soma dos números de 1 a 100 é: 1711\n",
            "A soma dos números de 1 a 100 é: 1770\n",
            "A soma dos números de 1 a 100 é: 1830\n",
            "A soma dos números de 1 a 100 é: 1891\n",
            "A soma dos números de 1 a 100 é: 1953\n",
            "A soma dos números de 1 a 100 é: 2016\n",
            "A soma dos números de 1 a 100 é: 2080\n",
            "A soma dos números de 1 a 100 é: 2145\n",
            "A soma dos números de 1 a 100 é: 2211\n",
            "A soma dos números de 1 a 100 é: 2278\n",
            "A soma dos números de 1 a 100 é: 2346\n",
            "A soma dos números de 1 a 100 é: 2415\n",
            "A soma dos números de 1 a 100 é: 2485\n",
            "A soma dos números de 1 a 100 é: 2556\n",
            "A soma dos números de 1 a 100 é: 2628\n",
            "A soma dos números de 1 a 100 é: 2701\n",
            "A soma dos números de 1 a 100 é: 2775\n",
            "A soma dos números de 1 a 100 é: 2850\n",
            "A soma dos números de 1 a 100 é: 2926\n",
            "A soma dos números de 1 a 100 é: 3003\n",
            "A soma dos números de 1 a 100 é: 3081\n",
            "A soma dos números de 1 a 100 é: 3160\n",
            "A soma dos números de 1 a 100 é: 3240\n",
            "A soma dos números de 1 a 100 é: 3321\n",
            "A soma dos números de 1 a 100 é: 3403\n",
            "A soma dos números de 1 a 100 é: 3486\n",
            "A soma dos números de 1 a 100 é: 3570\n",
            "A soma dos números de 1 a 100 é: 3655\n",
            "A soma dos números de 1 a 100 é: 3741\n",
            "A soma dos números de 1 a 100 é: 3828\n",
            "A soma dos números de 1 a 100 é: 3916\n",
            "A soma dos números de 1 a 100 é: 4005\n",
            "A soma dos números de 1 a 100 é: 4095\n",
            "A soma dos números de 1 a 100 é: 4186\n",
            "A soma dos números de 1 a 100 é: 4278\n",
            "A soma dos números de 1 a 100 é: 4371\n",
            "A soma dos números de 1 a 100 é: 4465\n",
            "A soma dos números de 1 a 100 é: 4560\n",
            "A soma dos números de 1 a 100 é: 4656\n",
            "A soma dos números de 1 a 100 é: 4753\n",
            "A soma dos números de 1 a 100 é: 4851\n",
            "A soma dos números de 1 a 100 é: 4950\n",
            "A soma dos números de 1 a 100 é: 5050\n"
          ]
        }
      ]
    },
    {
      "cell_type": "markdown",
      "source": [
        "Questão 07 \"Números ímpares entre 1 e 50\""
      ],
      "metadata": {
        "id": "uH_C5wi_4YXC"
      }
    },
    {
      "cell_type": "code",
      "source": [
        "print(\"Números ímpares de 1 a 50:\")\n",
        "for numero in range(1, 51):\n",
        "  if numero % 2 != 0:\n",
        "    print(numero)\n",
        "\n"
      ],
      "metadata": {
        "colab": {
          "base_uri": "https://localhost:8080/"
        },
        "id": "5ld0Ny-M4gUt",
        "outputId": "b2daec6e-1202-4e53-d2e0-da5af839e471"
      },
      "execution_count": 10,
      "outputs": [
        {
          "output_type": "stream",
          "name": "stdout",
          "text": [
            "Números ímpares de 1 a 50:\n",
            "1\n",
            "3\n",
            "5\n",
            "7\n",
            "9\n",
            "11\n",
            "13\n",
            "15\n",
            "17\n",
            "19\n",
            "21\n",
            "23\n",
            "25\n",
            "27\n",
            "29\n",
            "31\n",
            "33\n",
            "35\n",
            "37\n",
            "39\n",
            "41\n",
            "43\n",
            "45\n",
            "47\n",
            "49\n"
          ]
        }
      ]
    },
    {
      "cell_type": "markdown",
      "source": [
        "Questão 08 \"built-in\""
      ],
      "metadata": {
        "id": "Q_Pl4TFq6hGu"
      }
    },
    {
      "cell_type": "code",
      "source": [
        "#Lista de números\n",
        "numeros = [10,40,50,100]\n",
        "\n",
        "numeros.append(80)\n",
        "\n",
        "print(\"Elementos da lista\")\n",
        "for numero in numeros:\n",
        "  print(numero)\n",
        "  print(\"Máximo da lista:\", max(numeros))"
      ],
      "metadata": {
        "colab": {
          "base_uri": "https://localhost:8080/"
        },
        "id": "UNe8N4cZ6xHh",
        "outputId": "dc7b0750-7a23-4a9a-9322-aff60fb88e9f"
      },
      "execution_count": 24,
      "outputs": [
        {
          "output_type": "stream",
          "name": "stdout",
          "text": [
            "Elementos da lista\n",
            "10\n",
            "Máximo da lista: 100\n",
            "40\n",
            "Máximo da lista: 100\n",
            "50\n",
            "Máximo da lista: 100\n",
            "100\n",
            "Máximo da lista: 100\n",
            "80\n",
            "Máximo da lista: 100\n"
          ]
        }
      ]
    }
  ]
}