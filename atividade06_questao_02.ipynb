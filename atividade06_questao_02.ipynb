{
  "nbformat": 4,
  "nbformat_minor": 0,
  "metadata": {
    "colab": {
      "provenance": [],
      "authorship_tag": "ABX9TyMIUIelcluysfapqaOvnyBx",
      "include_colab_link": true
    },
    "kernelspec": {
      "name": "python3",
      "display_name": "Python 3"
    },
    "language_info": {
      "name": "python"
    }
  },
  "cells": [
    {
      "cell_type": "markdown",
      "metadata": {
        "id": "view-in-github",
        "colab_type": "text"
      },
      "source": [
        "<a href=\"https://colab.research.google.com/github/LORENA-MAXIMO/Leticia-Lorena-Aluna/blob/main/atividade06_questao_02.ipynb\" target=\"_parent\"><img src=\"https://colab.research.google.com/assets/colab-badge.svg\" alt=\"Open In Colab\"/></a>"
      ]
    },
    {
      "cell_type": "code",
      "source": [
        "def soma_elementos_pares(vetor):\n",
        "    soma = 0\n",
        "    for numero in vetor:\n",
        "        if numero % 2 == 0:\n",
        "            soma += numero\n",
        "    return soma\n",
        "\n",
        "lista = [1, 2, 3, 4, 5, 6, 7, 8, 9, 10, 11, 12, 13, 20]\n",
        "resultado = soma_elementos_pares(lista)\n",
        "print(resultado)"
      ],
      "metadata": {
        "colab": {
          "base_uri": "https://localhost:8080/"
        },
        "id": "j4_HrINBUGWz",
        "outputId": "7109bb5e-928c-4033-c575-4f358d9cfd98"
      },
      "execution_count": 1,
      "outputs": [
        {
          "output_type": "stream",
          "name": "stdout",
          "text": [
            "62\n"
          ]
        }
      ]
    }
  ]
}