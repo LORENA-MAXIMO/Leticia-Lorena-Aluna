{
  "nbformat": 4,
  "nbformat_minor": 0,
  "metadata": {
    "colab": {
      "provenance": [],
      "authorship_tag": "ABX9TyOjo2Kmno0iCeS8l/Os+Xqc",
      "include_colab_link": true
    },
    "kernelspec": {
      "name": "python3",
      "display_name": "Python 3"
    },
    "language_info": {
      "name": "python"
    }
  },
  "cells": [
    {
      "cell_type": "markdown",
      "metadata": {
        "id": "view-in-github",
        "colab_type": "text"
      },
      "source": [
        "<a href=\"https://colab.research.google.com/github/LORENA-MAXIMO/Leticia-Lorena-Aluna/blob/main/test_soma_pares.ipynb\" target=\"_parent\"><img src=\"https://colab.research.google.com/assets/colab-badge.svg\" alt=\"Open In Colab\"/></a>"
      ]
    },
    {
      "cell_type": "code",
      "source": [
        "import unittest\n",
        "import soma_pares\n",
        "class TestSomaPares(unittest.TestCase):\n",
        " def test_soma_pares (self):\n",
        "\n",
        "  self.assertEqual('soma_pares'([1, 2, 3, 4, 5, 6]), 12)\n",
        "  self.assertEqual('soma_pares'([10, 21, 32, 43, 54]), 96)\n",
        "  self.assertEqual('soma_pares'([0, -2, -4, 3]), -6)\n",
        "  self.assertEqual('soma_pares'([1, 3, 5]), 0)\n",
        "\n",
        "if __name__ == &#39;__'main'__&#39;:\n",
        "unittest.main()"
      ],
      "metadata": {
        "colab": {
          "base_uri": "https://localhost:8080/",
          "height": 110
        },
        "id": "6g3UTpNvaHqq",
        "outputId": "e1562922-cf71-4b82-c4e7-a6fe554c6910"
      },
      "execution_count": 5,
      "outputs": [
        {
          "output_type": "error",
          "ename": "SyntaxError",
          "evalue": "invalid syntax (<ipython-input-5-8b316308e9b4>, line 11)",
          "traceback": [
            "\u001b[0;36m  File \u001b[0;32m\"<ipython-input-5-8b316308e9b4>\"\u001b[0;36m, line \u001b[0;32m11\u001b[0m\n\u001b[0;31m    if __name__ == &#39;__'main'__&#39;:\u001b[0m\n\u001b[0m                   ^\u001b[0m\n\u001b[0;31mSyntaxError\u001b[0m\u001b[0;31m:\u001b[0m invalid syntax\n"
          ]
        }
      ]
    }
  ]
}